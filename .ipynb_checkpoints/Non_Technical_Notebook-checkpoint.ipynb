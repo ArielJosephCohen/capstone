{
 "cells": [
  {
   "cell_type": "markdown",
   "metadata": {},
   "source": [
    "# **Introduction**: The goal of this notebook is to create a machine learning model to accurately predict cases of car insurance fraud and to understand what characterisitcs in a claim are most indicative of potential fraud"
   ]
  },
  {
   "cell_type": "markdown",
   "metadata": {},
   "source": [
    "Data: https://www.kaggle.com/roshansharma/insurance-claim"
   ]
  },
  {
   "cell_type": "markdown",
   "metadata": {},
   "source": [
    "GitHub: https://github.com/ArielJosephCohen/capstone"
   ]
  },
  {
   "cell_type": "markdown",
   "metadata": {},
   "source": [
    "Presentation: https://docs.google.com/presentation/d/1IQdYSxrzyGvMpurhM-i097Btp4ksqL70WLEiM6yc5Sw/edit#slide=id.g35f391192_00"
   ]
  },
  {
   "cell_type": "markdown",
   "metadata": {},
   "source": [
    "# **Notebook**"
   ]
  },
  {
   "cell_type": "markdown",
   "metadata": {},
   "source": [
    "## This will save some stress"
   ]
  },
  {
   "cell_type": "code",
   "execution_count": 1,
   "metadata": {},
   "outputs": [],
   "source": [
    "import warnings\n",
    "warnings.filterwarnings(action='ignore')"
   ]
  },
  {
   "cell_type": "markdown",
   "metadata": {},
   "source": [
    "## Load helper module with custom functions"
   ]
  },
  {
   "cell_type": "code",
   "execution_count": 2,
   "metadata": {},
   "outputs": [],
   "source": [
    "import helper_module as hm\n",
    "from helper_module import *"
   ]
  },
  {
   "cell_type": "markdown",
   "metadata": {},
   "source": [
    "## Load central data for analysis"
   ]
  },
  {
   "cell_type": "code",
   "execution_count": 3,
   "metadata": {},
   "outputs": [],
   "source": [
    "df = pd.read_csv('Claims.csv')"
   ]
  },
  {
   "cell_type": "markdown",
   "metadata": {},
   "source": [
    "## Assign uniform randomness for entire project"
   ]
  },
  {
   "cell_type": "code",
   "execution_count": 4,
   "metadata": {},
   "outputs": [],
   "source": [
    "seed = 14"
   ]
  },
  {
   "cell_type": "markdown",
   "metadata": {},
   "source": [
    "## Clean data"
   ]
  },
  {
   "cell_type": "code",
   "execution_count": 5,
   "metadata": {},
   "outputs": [],
   "source": [
    "# address '?' values in data\n",
    "df=hm.clean_data(df)"
   ]
  },
  {
   "cell_type": "code",
   "execution_count": 6,
   "metadata": {},
   "outputs": [],
   "source": [
    "# create separate columns for policy bind year and month\n",
    "df = hm.reassign_year_and_month(df)"
   ]
  },
  {
   "cell_type": "code",
   "execution_count": 7,
   "metadata": {},
   "outputs": [],
   "source": [
    "# assign a car type to auto models\n",
    "auto_model_dict = hm.create_auto_dict()"
   ]
  },
  {
   "cell_type": "code",
   "execution_count": 8,
   "metadata": {},
   "outputs": [],
   "source": [
    "# map car type\n",
    "df.auto_model=df.auto_model.map(lambda x: auto_model_dict[x])"
   ]
  },
  {
   "cell_type": "code",
   "execution_count": 9,
   "metadata": {},
   "outputs": [],
   "source": [
    "# create a timeline between policy bind data and claim\n",
    "df=hm.create_timeline(df)"
   ]
  },
  {
   "cell_type": "code",
   "execution_count": 10,
   "metadata": {},
   "outputs": [],
   "source": [
    "# now that I have the timeline and month-year information, I can drop some more columns\n",
    "df.drop(['incident_date','policy_bind_date'],axis=1,inplace=True)"
   ]
  },
  {
   "cell_type": "code",
   "execution_count": 11,
   "metadata": {},
   "outputs": [],
   "source": [
    "# show capital loss as a positive value\n",
    "df=hm.quantify_absolute_value(df,'capital-loss')"
   ]
  },
  {
   "cell_type": "code",
   "execution_count": 12,
   "metadata": {},
   "outputs": [],
   "source": [
    "# assign numerical binary to insured sex\n",
    "df=hm.map_binary_dict(df,'insured_sex','MALE','FEMALE')"
   ]
  },
  {
   "cell_type": "code",
   "execution_count": 13,
   "metadata": {},
   "outputs": [],
   "source": [
    "# assign numerical binary to fraud reported (target feature)\n",
    "df=hm.map_binary_dict(df,'fraud_reported','Y','N')"
   ]
  },
  {
   "cell_type": "markdown",
   "metadata": {},
   "source": [
    "## Address categorical and numerical features"
   ]
  },
  {
   "cell_type": "code",
   "execution_count": 14,
   "metadata": {},
   "outputs": [],
   "source": [
    "# create separate lists of numerical and categorical features\n",
    "num_list = hm.create_num_list()\n",
    "cat_list = hm.create_cat_list()\n",
    "cat_list_2 = hm.create_cat_list_2()"
   ]
  },
  {
   "cell_type": "code",
   "execution_count": 15,
   "metadata": {},
   "outputs": [],
   "source": [
    "# remove correlated features and update numerical feature list\n",
    "df,num_list=hm.remove_correlation(df,num_list)"
   ]
  },
  {
   "cell_type": "code",
   "execution_count": 16,
   "metadata": {},
   "outputs": [],
   "source": [
    "# create categorical and numerical data frames\n",
    "df_num=df[num_list]\n",
    "df_cat=df[cat_list]"
   ]
  },
  {
   "cell_type": "markdown",
   "metadata": {},
   "source": [
    "## Encode categorical data as numerical values"
   ]
  },
  {
   "cell_type": "code",
   "execution_count": 17,
   "metadata": {},
   "outputs": [],
   "source": [
    "# use correlation with target variable to encode categorical features\n",
    "for col in cat_list_2:\n",
    "    df_cat = create_encoding(col,df_cat,df)"
   ]
  },
  {
   "cell_type": "markdown",
   "metadata": {},
   "source": [
    "## Combine data frames and revisit correlation"
   ]
  },
  {
   "cell_type": "code",
   "execution_count": 18,
   "metadata": {},
   "outputs": [],
   "source": [
    "# merge categorical and numerical data frames into one\n",
    "df_atg = hm.combine_data_frames(df_cat,df_num)"
   ]
  },
  {
   "cell_type": "code",
   "execution_count": 19,
   "metadata": {},
   "outputs": [],
   "source": [
    "# remove correlation from encoded categorical features\n",
    "df_atg = hm.remove_categorical_correlation(df_atg,'incident_type')"
   ]
  },
  {
   "cell_type": "markdown",
   "metadata": {},
   "source": [
    "## Recursive Feature Elimination"
   ]
  },
  {
   "cell_type": "code",
   "execution_count": 20,
   "metadata": {},
   "outputs": [],
   "source": [
    "# reduce un-needed features\n",
    "x_and_y=hm.reduce_features(df_atg,seed)"
   ]
  },
  {
   "cell_type": "markdown",
   "metadata": {},
   "source": [
    "## Filter, normalize, and scale"
   ]
  },
  {
   "cell_type": "code",
   "execution_count": 21,
   "metadata": {},
   "outputs": [],
   "source": [
    "# filter outliers\n",
    "x_and_y = hm.filter_outliers(x_and_y)"
   ]
  },
  {
   "cell_type": "code",
   "execution_count": 22,
   "metadata": {},
   "outputs": [],
   "source": [
    "# split into X and y\n",
    "X = x_and_y.drop('fraud_reported',axis=1)\n",
    "y = x_and_y.fraud_reported"
   ]
  },
  {
   "cell_type": "code",
   "execution_count": 23,
   "metadata": {},
   "outputs": [],
   "source": [
    "# normalize features\n",
    "X = hm.normalize_features(X)"
   ]
  },
  {
   "cell_type": "code",
   "execution_count": 24,
   "metadata": {},
   "outputs": [],
   "source": [
    "# scale features\n",
    "X = hm.scale_data(X)"
   ]
  },
  {
   "cell_type": "markdown",
   "metadata": {},
   "source": [
    "## Train-Test-Split"
   ]
  },
  {
   "cell_type": "code",
   "execution_count": 25,
   "metadata": {},
   "outputs": [],
   "source": [
    "# split data into train set and validation set\n",
    "X_train, X_test, y_train, y_test = hm.split_data(X,y,seed,t_s=0.25)"
   ]
  },
  {
   "cell_type": "markdown",
   "metadata": {},
   "source": [
    "## Balance data"
   ]
  },
  {
   "cell_type": "code",
   "execution_count": 26,
   "metadata": {},
   "outputs": [],
   "source": [
    "# balance data for more meaningful results\n",
    "X_train, y_train = hm.upsample_data(X_train,y_train,seed)"
   ]
  },
  {
   "cell_type": "markdown",
   "metadata": {},
   "source": [
    "## Training scores"
   ]
  },
  {
   "cell_type": "code",
   "execution_count": 27,
   "metadata": {},
   "outputs": [],
   "source": [
    "# logistic regression score\n",
    "lr_train_scores,lr_train_class_rep,lr_train_cm = hm.models.logistic_regression_model(X_train,y_train,X_train,y_train,seed)"
   ]
  },
  {
   "cell_type": "code",
   "execution_count": 28,
   "metadata": {},
   "outputs": [],
   "source": [
    "# support vector machine scores\n",
    "svc_train_scores,svc_train_class_rep,svc_train_cm = hm.models.support_vector_machine_model(X_train,y_train,X_train,y_train,seed)"
   ]
  },
  {
   "cell_type": "code",
   "execution_count": 29,
   "metadata": {},
   "outputs": [],
   "source": [
    "# k nearest neighbors score\n",
    "knn_train_scores,knn_train_class_rep,knn_train_cm = hm.models.knn_model(X_train,y_train,X_train,y_train)"
   ]
  },
  {
   "cell_type": "code",
   "execution_count": 30,
   "metadata": {},
   "outputs": [],
   "source": [
    "# gaussian naive bayes score\n",
    "gnb_train_scores,gnb_train_class_rep,gnb_train_cm = hm.models.gaussian_naive_bayes_model(X_train,y_train,X_train,y_train)"
   ]
  },
  {
   "cell_type": "code",
   "execution_count": 31,
   "metadata": {},
   "outputs": [],
   "source": [
    "# linear svc score\n",
    "lsvc_train_scores,lsvc_train_class_rep,lsvc_train_cm = hm.models.linear_svc_model(X_train,y_train,X_train,y_train,seed)"
   ]
  },
  {
   "cell_type": "code",
   "execution_count": 32,
   "metadata": {},
   "outputs": [],
   "source": [
    "# stochastic gradient descent score\n",
    "sgd_train_scores,sgd_train_class_rep,sgd_train_cm = hm.models.stochastic_gradient_descent_model(X_train,y_train,X_train,y_train,seed)"
   ]
  },
  {
   "cell_type": "code",
   "execution_count": 33,
   "metadata": {},
   "outputs": [],
   "source": [
    "# decision tree score\n",
    "dt_train_scores,dt_train_class_rep,dt_train_cm = hm.models.decision_tree_model(X_train,y_train,X_train,y_train,seed)"
   ]
  },
  {
   "cell_type": "code",
   "execution_count": 34,
   "metadata": {},
   "outputs": [],
   "source": [
    "# random forest score\n",
    "rf_train_scores,rf_train_class_rep,rf_train_cm = hm.models.random_forest_model(X_train,y_train,X_train,y_train,seed)"
   ]
  },
  {
   "cell_type": "code",
   "execution_count": 35,
   "metadata": {},
   "outputs": [],
   "source": [
    "# xgboost score\n",
    "xgb_train_scores,xgb_train_class_rep,xgb_train_cm = hm.models.XGBoost_model(X_train,y_train,X_train,y_train,seed)"
   ]
  },
  {
   "cell_type": "markdown",
   "metadata": {},
   "source": [
    "## Train validation summary"
   ]
  },
  {
   "cell_type": "code",
   "execution_count": 36,
   "metadata": {},
   "outputs": [
    {
     "data": {
      "text/html": [
       "<div>\n",
       "<style scoped>\n",
       "    .dataframe tbody tr th:only-of-type {\n",
       "        vertical-align: middle;\n",
       "    }\n",
       "\n",
       "    .dataframe tbody tr th {\n",
       "        vertical-align: top;\n",
       "    }\n",
       "\n",
       "    .dataframe thead th {\n",
       "        text-align: right;\n",
       "    }\n",
       "</style>\n",
       "<table border=\"1\" class=\"dataframe\">\n",
       "  <thead>\n",
       "    <tr style=\"text-align: right;\">\n",
       "      <th></th>\n",
       "      <th>accuracy</th>\n",
       "      <th>precision</th>\n",
       "      <th>recall</th>\n",
       "      <th>f1</th>\n",
       "    </tr>\n",
       "    <tr>\n",
       "      <th>models</th>\n",
       "      <th></th>\n",
       "      <th></th>\n",
       "      <th></th>\n",
       "      <th></th>\n",
       "    </tr>\n",
       "  </thead>\n",
       "  <tbody>\n",
       "    <tr>\n",
       "      <td>logistic regression</td>\n",
       "      <td>87.28</td>\n",
       "      <td>86.38</td>\n",
       "      <td>88.53</td>\n",
       "      <td>87.44</td>\n",
       "    </tr>\n",
       "    <tr>\n",
       "      <td>support vector machine</td>\n",
       "      <td>86.33</td>\n",
       "      <td>85.71</td>\n",
       "      <td>87.19</td>\n",
       "      <td>86.45</td>\n",
       "    </tr>\n",
       "    <tr>\n",
       "      <td>k nearest neighbors</td>\n",
       "      <td>100.00</td>\n",
       "      <td>100.00</td>\n",
       "      <td>100.00</td>\n",
       "      <td>100.00</td>\n",
       "    </tr>\n",
       "    <tr>\n",
       "      <td>gaussian naive bayes</td>\n",
       "      <td>85.18</td>\n",
       "      <td>85.52</td>\n",
       "      <td>84.70</td>\n",
       "      <td>85.11</td>\n",
       "    </tr>\n",
       "    <tr>\n",
       "      <td>linear svc</td>\n",
       "      <td>86.14</td>\n",
       "      <td>85.80</td>\n",
       "      <td>86.62</td>\n",
       "      <td>86.20</td>\n",
       "    </tr>\n",
       "    <tr>\n",
       "      <td>stochastic gradient descent</td>\n",
       "      <td>50.10</td>\n",
       "      <td>60.00</td>\n",
       "      <td>0.57</td>\n",
       "      <td>1.14</td>\n",
       "    </tr>\n",
       "    <tr>\n",
       "      <td>decision tree</td>\n",
       "      <td>97.13</td>\n",
       "      <td>94.58</td>\n",
       "      <td>100.00</td>\n",
       "      <td>97.21</td>\n",
       "    </tr>\n",
       "    <tr>\n",
       "      <td>random forest</td>\n",
       "      <td>100.00</td>\n",
       "      <td>100.00</td>\n",
       "      <td>100.00</td>\n",
       "      <td>100.00</td>\n",
       "    </tr>\n",
       "    <tr>\n",
       "      <td>xgboost</td>\n",
       "      <td>100.00</td>\n",
       "      <td>100.00</td>\n",
       "      <td>100.00</td>\n",
       "      <td>100.00</td>\n",
       "    </tr>\n",
       "  </tbody>\n",
       "</table>\n",
       "</div>"
      ],
      "text/plain": [
       "                             accuracy  precision  recall      f1\n",
       "models                                                          \n",
       "logistic regression             87.28      86.38   88.53   87.44\n",
       "support vector machine          86.33      85.71   87.19   86.45\n",
       "k nearest neighbors            100.00     100.00  100.00  100.00\n",
       "gaussian naive bayes            85.18      85.52   84.70   85.11\n",
       "linear svc                      86.14      85.80   86.62   86.20\n",
       "stochastic gradient descent     50.10      60.00    0.57    1.14\n",
       "decision tree                   97.13      94.58  100.00   97.21\n",
       "random forest                  100.00     100.00  100.00  100.00\n",
       "xgboost                        100.00     100.00  100.00  100.00"
      ]
     },
     "execution_count": 36,
     "metadata": {},
     "output_type": "execute_result"
    }
   ],
   "source": [
    "# summary data frame\n",
    "pd.DataFrame(hm.models.metrics_train).set_index('models')"
   ]
  },
  {
   "cell_type": "markdown",
   "metadata": {},
   "source": [
    "## Test scores"
   ]
  },
  {
   "cell_type": "code",
   "execution_count": 37,
   "metadata": {},
   "outputs": [],
   "source": [
    "# logistic regression validation score\n",
    "lr_test_scores,lr_test_class_rep,lr_test_cm = hm.models.logistic_regression_model(X_train,y_train,X_test,y_test,seed)"
   ]
  },
  {
   "cell_type": "code",
   "execution_count": 38,
   "metadata": {},
   "outputs": [],
   "source": [
    "# support vector machine validation score\n",
    "svc_test_scores,svc_test_class_rep,svc_test_cm = hm.models.support_vector_machine_model(X_train,y_train,X_test,y_test,seed)"
   ]
  },
  {
   "cell_type": "code",
   "execution_count": 39,
   "metadata": {},
   "outputs": [],
   "source": [
    "# k nearest neighbors validation score\n",
    "knn_test_scores,knn_test_class_rep,knn_test_cm = hm.models.knn_model(X_train,y_train,X_test,y_test)"
   ]
  },
  {
   "cell_type": "code",
   "execution_count": 40,
   "metadata": {},
   "outputs": [],
   "source": [
    "# gaussian naive bayes validation score\n",
    "gnb_test_scores,gnb_test_class_rep,gnb_test_cm = hm.models.gaussian_naive_bayes_model(X_train,y_train,X_test,y_test)"
   ]
  },
  {
   "cell_type": "code",
   "execution_count": 41,
   "metadata": {},
   "outputs": [],
   "source": [
    "# linear svc validation score\n",
    "lsvc_test_scores,lsvc_test_class_rep,lsvc_test_cm = hm.models.linear_svc_model(X_train,y_train,X_test,y_test,seed)"
   ]
  },
  {
   "cell_type": "code",
   "execution_count": 42,
   "metadata": {},
   "outputs": [],
   "source": [
    "# stochastic gradient descent validation score\n",
    "sgd_test_scores,sgd_test_class_rep,sgd_test_cm = hm.models.stochastic_gradient_descent_model(X_train,y_train,X_test,y_test,seed)"
   ]
  },
  {
   "cell_type": "code",
   "execution_count": 43,
   "metadata": {},
   "outputs": [],
   "source": [
    "# decision tree validation score\n",
    "dt_test_scores,dt_test_class_rep,dt_test_cm = hm.models.decision_tree_model(X_train,y_train,X_test,y_test,seed)"
   ]
  },
  {
   "cell_type": "code",
   "execution_count": 44,
   "metadata": {},
   "outputs": [],
   "source": [
    "# random forest validation score\n",
    "rf_test_scores,rf_test_class_rep,rf_test_cm = hm.models.random_forest_model(X_train,y_train,X_test,y_test,seed)"
   ]
  },
  {
   "cell_type": "code",
   "execution_count": 45,
   "metadata": {},
   "outputs": [],
   "source": [
    "# xgboost validation score\n",
    "xgb_test_scores,xgb_test_class_rep,xgb_test_cm = hm.models.XGBoost_model(X_train,y_train,X_test,y_test,seed)"
   ]
  },
  {
   "cell_type": "markdown",
   "metadata": {},
   "source": [
    "## Test validation summary"
   ]
  },
  {
   "cell_type": "code",
   "execution_count": 46,
   "metadata": {},
   "outputs": [
    {
     "data": {
      "text/html": [
       "<div>\n",
       "<style scoped>\n",
       "    .dataframe tbody tr th:only-of-type {\n",
       "        vertical-align: middle;\n",
       "    }\n",
       "\n",
       "    .dataframe tbody tr th {\n",
       "        vertical-align: top;\n",
       "    }\n",
       "\n",
       "    .dataframe thead th {\n",
       "        text-align: right;\n",
       "    }\n",
       "</style>\n",
       "<table border=\"1\" class=\"dataframe\">\n",
       "  <thead>\n",
       "    <tr style=\"text-align: right;\">\n",
       "      <th></th>\n",
       "      <th>accuracy</th>\n",
       "      <th>precision</th>\n",
       "      <th>recall</th>\n",
       "      <th>f1</th>\n",
       "    </tr>\n",
       "    <tr>\n",
       "      <th>models</th>\n",
       "      <th></th>\n",
       "      <th></th>\n",
       "      <th></th>\n",
       "      <th></th>\n",
       "    </tr>\n",
       "  </thead>\n",
       "  <tbody>\n",
       "    <tr>\n",
       "      <td>logistic regression</td>\n",
       "      <td>86.92</td>\n",
       "      <td>64.29</td>\n",
       "      <td>81.82</td>\n",
       "      <td>72.00</td>\n",
       "    </tr>\n",
       "    <tr>\n",
       "      <td>support vector machine</td>\n",
       "      <td>85.51</td>\n",
       "      <td>61.40</td>\n",
       "      <td>79.55</td>\n",
       "      <td>69.31</td>\n",
       "    </tr>\n",
       "    <tr>\n",
       "      <td>k nearest neighbors</td>\n",
       "      <td>66.82</td>\n",
       "      <td>27.87</td>\n",
       "      <td>38.64</td>\n",
       "      <td>32.38</td>\n",
       "    </tr>\n",
       "    <tr>\n",
       "      <td>gaussian naive bayes</td>\n",
       "      <td>84.58</td>\n",
       "      <td>60.00</td>\n",
       "      <td>75.00</td>\n",
       "      <td>66.67</td>\n",
       "    </tr>\n",
       "    <tr>\n",
       "      <td>linear svc</td>\n",
       "      <td>85.98</td>\n",
       "      <td>62.07</td>\n",
       "      <td>81.82</td>\n",
       "      <td>70.59</td>\n",
       "    </tr>\n",
       "    <tr>\n",
       "      <td>stochastic gradient descent</td>\n",
       "      <td>79.91</td>\n",
       "      <td>100.00</td>\n",
       "      <td>2.27</td>\n",
       "      <td>4.44</td>\n",
       "    </tr>\n",
       "    <tr>\n",
       "      <td>decision tree</td>\n",
       "      <td>83.18</td>\n",
       "      <td>60.00</td>\n",
       "      <td>54.55</td>\n",
       "      <td>57.14</td>\n",
       "    </tr>\n",
       "    <tr>\n",
       "      <td>random forest</td>\n",
       "      <td>84.11</td>\n",
       "      <td>64.71</td>\n",
       "      <td>50.00</td>\n",
       "      <td>56.41</td>\n",
       "    </tr>\n",
       "    <tr>\n",
       "      <td>xgboost</td>\n",
       "      <td>85.98</td>\n",
       "      <td>67.50</td>\n",
       "      <td>61.36</td>\n",
       "      <td>64.29</td>\n",
       "    </tr>\n",
       "  </tbody>\n",
       "</table>\n",
       "</div>"
      ],
      "text/plain": [
       "                             accuracy  precision  recall     f1\n",
       "models                                                         \n",
       "logistic regression             86.92      64.29   81.82  72.00\n",
       "support vector machine          85.51      61.40   79.55  69.31\n",
       "k nearest neighbors             66.82      27.87   38.64  32.38\n",
       "gaussian naive bayes            84.58      60.00   75.00  66.67\n",
       "linear svc                      85.98      62.07   81.82  70.59\n",
       "stochastic gradient descent     79.91     100.00    2.27   4.44\n",
       "decision tree                   83.18      60.00   54.55  57.14\n",
       "random forest                   84.11      64.71   50.00  56.41\n",
       "xgboost                         85.98      67.50   61.36  64.29"
      ]
     },
     "execution_count": 46,
     "metadata": {},
     "output_type": "execute_result"
    }
   ],
   "source": [
    "# summary data frame\n",
    "pd.DataFrame(hm.models.metrics_test).set_index('models')"
   ]
  },
  {
   "cell_type": "markdown",
   "metadata": {},
   "source": [
    "## Find most predictive features"
   ]
  },
  {
   "cell_type": "code",
   "execution_count": 47,
   "metadata": {},
   "outputs": [
    {
     "data": {
      "text/html": [
       "<div>\n",
       "<style scoped>\n",
       "    .dataframe tbody tr th:only-of-type {\n",
       "        vertical-align: middle;\n",
       "    }\n",
       "\n",
       "    .dataframe tbody tr th {\n",
       "        vertical-align: top;\n",
       "    }\n",
       "\n",
       "    .dataframe thead th {\n",
       "        text-align: right;\n",
       "    }\n",
       "</style>\n",
       "<table border=\"1\" class=\"dataframe\">\n",
       "  <thead>\n",
       "    <tr style=\"text-align: right;\">\n",
       "      <th></th>\n",
       "      <th>0</th>\n",
       "    </tr>\n",
       "  </thead>\n",
       "  <tbody>\n",
       "    <tr>\n",
       "      <td>capital-gains</td>\n",
       "      <td>0.023237</td>\n",
       "    </tr>\n",
       "    <tr>\n",
       "      <td>capital-loss</td>\n",
       "      <td>0.025648</td>\n",
       "    </tr>\n",
       "    <tr>\n",
       "      <td>insured_education_level</td>\n",
       "      <td>0.025769</td>\n",
       "    </tr>\n",
       "    <tr>\n",
       "      <td>auto_make</td>\n",
       "      <td>0.029073</td>\n",
       "    </tr>\n",
       "    <tr>\n",
       "      <td>policy_bind_month</td>\n",
       "      <td>0.031906</td>\n",
       "    </tr>\n",
       "    <tr>\n",
       "      <td>auto_year</td>\n",
       "      <td>0.033008</td>\n",
       "    </tr>\n",
       "    <tr>\n",
       "      <td>months_as_customer</td>\n",
       "      <td>0.036971</td>\n",
       "    </tr>\n",
       "    <tr>\n",
       "      <td>incident_hour_of_the_day</td>\n",
       "      <td>0.037737</td>\n",
       "    </tr>\n",
       "    <tr>\n",
       "      <td>timeline</td>\n",
       "      <td>0.039419</td>\n",
       "    </tr>\n",
       "    <tr>\n",
       "      <td>policy_bind_year</td>\n",
       "      <td>0.041017</td>\n",
       "    </tr>\n",
       "    <tr>\n",
       "      <td>policy_annual_premium</td>\n",
       "      <td>0.042549</td>\n",
       "    </tr>\n",
       "    <tr>\n",
       "      <td>insured_hobbies</td>\n",
       "      <td>0.051767</td>\n",
       "    </tr>\n",
       "    <tr>\n",
       "      <td>insured_occupation</td>\n",
       "      <td>0.055001</td>\n",
       "    </tr>\n",
       "    <tr>\n",
       "      <td>injury_claim</td>\n",
       "      <td>0.069791</td>\n",
       "    </tr>\n",
       "    <tr>\n",
       "      <td>property_claim</td>\n",
       "      <td>0.077094</td>\n",
       "    </tr>\n",
       "    <tr>\n",
       "      <td>incident_severity</td>\n",
       "      <td>0.380012</td>\n",
       "    </tr>\n",
       "  </tbody>\n",
       "</table>\n",
       "</div>"
      ],
      "text/plain": [
       "                                 0\n",
       "capital-gains             0.023237\n",
       "capital-loss              0.025648\n",
       "insured_education_level   0.025769\n",
       "auto_make                 0.029073\n",
       "policy_bind_month         0.031906\n",
       "auto_year                 0.033008\n",
       "months_as_customer        0.036971\n",
       "incident_hour_of_the_day  0.037737\n",
       "timeline                  0.039419\n",
       "policy_bind_year          0.041017\n",
       "policy_annual_premium     0.042549\n",
       "insured_hobbies           0.051767\n",
       "insured_occupation        0.055001\n",
       "injury_claim              0.069791\n",
       "property_claim            0.077094\n",
       "incident_severity         0.380012"
      ]
     },
     "execution_count": 47,
     "metadata": {},
     "output_type": "execute_result"
    }
   ],
   "source": [
    "# breakdown of most indicative features\n",
    "important_features=hm.find_feature_importance(X_train,y_train,seed)\n",
    "important_features"
   ]
  },
  {
   "cell_type": "markdown",
   "metadata": {},
   "source": [
    "## Visualize decision tree"
   ]
  },
  {
   "cell_type": "code",
   "execution_count": 49,
   "metadata": {},
   "outputs": [],
   "source": [
    "# visual of how decision tree operates\n",
    "decision_tree_visual=hm.draw_decision_tree(seed,X_train,y_train,3)"
   ]
  }
 ],
 "metadata": {
  "kernelspec": {
   "display_name": "Python 3",
   "language": "python",
   "name": "python3"
  },
  "language_info": {
   "codemirror_mode": {
    "name": "ipython",
    "version": 3
   },
   "file_extension": ".py",
   "mimetype": "text/x-python",
   "name": "python",
   "nbconvert_exporter": "python",
   "pygments_lexer": "ipython3",
   "version": "3.7.4"
  }
 },
 "nbformat": 4,
 "nbformat_minor": 4
}
